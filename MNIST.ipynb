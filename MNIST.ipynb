{
  "nbformat": 4,
  "nbformat_minor": 0,
  "metadata": {
    "kernelspec": {
      "display_name": "Py3 research env",
      "language": "python",
      "name": "py3_research"
    },
    "language_info": {
      "codemirror_mode": {
        "name": "ipython",
        "version": 3
      },
      "file_extension": ".py",
      "mimetype": "text/x-python",
      "name": "python",
      "nbconvert_exporter": "python",
      "pygments_lexer": "ipython3",
      "version": "3.6.5"
    },
    "colab": {
      "name": "MNIST.ipynb",
      "provenance": [],
      "collapsed_sections": []
    }
  },
  "cells": [
    {
      "cell_type": "code",
      "metadata": {
        "id": "rjLsbdsCzLmB",
        "colab_type": "code",
        "colab": {}
      },
      "source": [
        "import keras\n",
        "import numpy as np\n",
        "import matplotlib.pyplot as plt\n",
        "from skimage import transform\n",
        "from tqdm import tqdm"
      ],
      "execution_count": 0,
      "outputs": []
    },
    {
      "cell_type": "code",
      "metadata": {
        "id": "-dSqMtVNz39q",
        "colab_type": "code",
        "colab": {}
      },
      "source": [
        "import warnings\n",
        "warnings.filterwarnings(\"ignore\")"
      ],
      "execution_count": 0,
      "outputs": []
    },
    {
      "cell_type": "markdown",
      "metadata": {
        "id": "B-nIEv7gzLmK",
        "colab_type": "text"
      },
      "source": [
        "### Данные:\n",
        "Будем работать с датасетом [FashionMNIST](https://github.com/zalandoresearch/fashion-mnist). "
      ]
    },
    {
      "cell_type": "code",
      "metadata": {
        "id": "V--HNdC3zLmP",
        "colab_type": "code",
        "colab": {}
      },
      "source": [
        "from keras.datasets import fashion_mnist\n",
        "\n",
        "(X_train, y_train), (X_test, y_test) = fashion_mnist.load_data()"
      ],
      "execution_count": 0,
      "outputs": []
    },
    {
      "cell_type": "code",
      "metadata": {
        "id": "Wwbw3AbizLmY",
        "colab_type": "code",
        "colab": {
          "base_uri": "https://localhost:8080/",
          "height": 282
        },
        "outputId": "27378013-a8bb-479b-9342-0f38c155ecbb"
      },
      "source": [
        "plt.imshow(X_train[0].reshape([28,28]))"
      ],
      "execution_count": 7,
      "outputs": [
        {
          "output_type": "execute_result",
          "data": {
            "text/plain": [
              "<matplotlib.image.AxesImage at 0x7f07515f4fd0>"
            ]
          },
          "metadata": {
            "tags": []
          },
          "execution_count": 7
        },
        {
          "output_type": "display_data",
          "data": {
            "image/png": "[encoded data removed]",
            "text/plain": [
              "<Figure size 432x288 with 1 Axes>"
            ]
          },
          "metadata": {
            "tags": []
          }
        }
      ]
    },
    {
      "cell_type": "markdown",
      "metadata": {
        "id": "szfe7m62zLmh",
        "colab_type": "text"
      },
      "source": [
        "### Задание:\n",
        "Будем решать задачу классификации на 10 классов. Каждый класс соответствует одному из типов одежды. Исходная размерность признакового пространства: `784`, каждый пиксель является признаком. Будем снижать размерность признакового пространства с помощью метода главных компонент (`PCA`). Ваша задача оценить качество решенения задачи классификации по метрике `accuracy` в зависимости от числа главных компонент. Также оцените дисперсию функции качества в зависимости от числа главных компонент.\n",
        "\n",
        "Нарисуйте график зависимости функции качества и ее дисперсии от числа главных компонент."
      ]
    },
    {
      "cell_type": "code",
      "metadata": {
        "id": "ogSCP27HzLmk",
        "colab_type": "code",
        "colab": {}
      },
      "source": [
        "from sklearn.decomposition import PCA\n",
        "from sklearn.linear_model import LogisticRegression\n",
        "from sklearn.metrics import accuracy_score\n",
        "from sklearn.pipeline import Pipeline\n",
        "from sklearn.model_selection import cross_val_score"
      ],
      "execution_count": 0,
      "outputs": []
    },
    {
      "cell_type": "code",
      "metadata": {
        "id": "FQxokfJTzLmq",
        "colab_type": "code",
        "colab": {
          "base_uri": "https://localhost:8080/",
          "height": 34
        },
        "outputId": "15496ea1-a51f-4ad8-f273-7003cd7b072e"
      },
      "source": [
        "pca = PCA(n_components=3)\n",
        "used_indices = np.random.choice(np.arange(X_train.shape[0]), 10000, replace=False)\n",
        "X_train_lowdim = pca.fit_transform(X_train[used_indices].reshape([-1, 784]))\n",
        "lr = LogisticRegression()\n",
        "lr.fit(X_train_lowdim, y_train[used_indices])\n",
        "accuracy_score(y_test, lr.predict(pca.transform(X_test.reshape([-1, 784]))))"
      ],
      "execution_count": 9,
      "outputs": [
        {
          "output_type": "execute_result",
          "data": {
            "text/plain": [
              "0.5621"
            ]
          },
          "metadata": {
            "tags": []
          },
          "execution_count": 9
        }
      ]
    },
    {
      "cell_type": "markdown",
      "metadata": {
        "id": "9ZTajo7NzLmy",
        "colab_type": "text"
      },
      "source": [
        "Используйте следующую сетку числа главных компонент: `[3, 5, 7, 12, 18, 25, 33, 40, 48, 55]`. Для ускорения сходимости можете семплировать подвыборки из `X_train`. "
      ]
    },
    {
      "cell_type": "code",
      "metadata": {
        "id": "ySx2ISNdzLm5",
        "colab_type": "code",
        "colab": {}
      },
      "source": [
        "### Your code here"
      ],
      "execution_count": 0,
      "outputs": []
    },
    {
      "cell_type": "code",
      "metadata": {
        "id": "wQNj9Vz10DW_",
        "colab_type": "code",
        "colab": {}
      },
      "source": [
        "n_components = [3, 5, 7, 12, 18, 25, 33, 40, 48, 55]\n",
        "\n",
        "pipeline = Pipeline([\n",
        "    ('compression', PCA(n_components=3)),\n",
        "    ('classification', LogisticRegression())\n",
        "])"
      ],
      "execution_count": 0,
      "outputs": []
    },
    {
      "cell_type": "markdown",
      "metadata": {
        "id": "cJOqGLIp59Oj",
        "colab_type": "text"
      },
      "source": [
        "Для каждого количества главных компонент обучение 5 моделей с помощью кросс валидации. На выходе получаем матрицу 10x5 с значениями ```accuracy```"
      ]
    },
    {
      "cell_type": "code",
      "metadata": {
        "id": "RjJtPyH70G7M",
        "colab_type": "code",
        "colab": {
          "base_uri": "https://localhost:8080/",
          "height": 34
        },
        "outputId": "3fa4e6ed-562b-4639-b7cb-d0dcfaecfff8"
      },
      "source": [
        "cv = 5\n",
        "scores = np.zeros([len(n_components), cv])\n",
        "\n",
        "for i, n_component in tqdm(enumerate(n_components), position=0):\n",
        "    pipeline = pipeline.set_params(compression__n_components=n_component)\n",
        "    score = cross_val_score(pipeline, X_train.reshape(-1, 784), y_train, scoring='accuracy', cv=cv, n_jobs=-1)\n",
        "    scores[i] = score"
      ],
      "execution_count": 23,
      "outputs": [
        {
          "output_type": "stream",
          "text": [
            "10it [05:40, 39.07s/it]\n"
          ],
          "name": "stderr"
        }
      ]
    },
    {
      "cell_type": "markdown",
      "metadata": {
        "id": "_1OibtV95kS_",
        "colab_type": "text"
      },
      "source": [
        "График ```accuracy``` в зависимости от количества компонент PCA. Дисперсия достаточно маленькая и не видна на графике"
      ]
    },
    {
      "cell_type": "code",
      "metadata": {
        "colab_type": "code",
        "outputId": "bb5425e3-40e6-46c1-f425-2892d92c6a3b",
        "id": "vTPjjv216l-B",
        "colab": {
          "base_uri": "https://localhost:8080/",
          "height": 301
        }
      },
      "source": [
        "mean = scores.mean(axis=-1)\n",
        "var = scores.var(axis=-1)\n",
        "\n",
        "fig, ax = plt.subplots()\n",
        "plt.xlabel('n_components')\n",
        "plt.ylabel('accuracy')\n",
        "ax.plot(mean)\n",
        "ax.fill_between(range(len(mean)), (mean-var), (mean+var), color='b', alpha=.1)"
      ],
      "execution_count": 42,
      "outputs": [
        {
          "output_type": "execute_result",
          "data": {
            "text/plain": [
              "<matplotlib.collections.PolyCollection at 0x7f0743d52630>"
            ]
          },
          "metadata": {
            "tags": []
          },
          "execution_count": 42
        },
        {
          "output_type": "display_data",
          "data": {
            "image/png": "[encoded data removed]",
            "text/plain": [
              "<Figure size 432x288 with 1 Axes>"
            ]
          },
          "metadata": {
            "tags": []
          }
        }
      ]
    },
    {
      "cell_type": "markdown",
      "metadata": {
        "id": "ip0wsvxW6-Xk",
        "colab_type": "text"
      },
      "source": [
        "Визуализация дисперсии в зависимости от количества главных компонент"
      ]
    },
    {
      "cell_type": "code",
      "metadata": {
        "id": "fWjX1UtG5VPe",
        "colab_type": "code",
        "colab": {
          "base_uri": "https://localhost:8080/",
          "height": 297
        },
        "outputId": "c3a81c6c-8935-4f84-afed-8afec9a364bb"
      },
      "source": [
        "plt.xlabel('n_components')\n",
        "plt.ylabel('accuracy variance')\n",
        "plt.bar(range(len(var)), var)"
      ],
      "execution_count": 43,
      "outputs": [
        {
          "output_type": "execute_result",
          "data": {
            "text/plain": [
              "<BarContainer object of 10 artists>"
            ]
          },
          "metadata": {
            "tags": []
          },
          "execution_count": 43
        },
        {
          "output_type": "display_data",
          "data": {
            "image/png": "[encoded data removed]",
            "text/plain": [
              "<Figure size 432x288 with 1 Axes>"
            ]
          },
          "metadata": {
            "tags": []
          }
        }
      ]
    },
    {
      "cell_type": "code",
      "metadata": {
        "id": "MWaY_gkt60kt",
        "colab_type": "code",
        "colab": {}
      },
      "source": [
        ""
      ],
      "execution_count": 0,
      "outputs": []
    }
  ]
}